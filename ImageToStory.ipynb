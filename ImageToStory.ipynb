{
  "nbformat": 4,
  "nbformat_minor": 0,
  "metadata": {
    "colab": {
      "provenance": [],
      "authorship_tag": "ABX9TyOFTpbojYNm9/fe2aoCCeOk",
      "include_colab_link": true
    },
    "kernelspec": {
      "name": "python3",
      "display_name": "Python 3"
    },
    "language_info": {
      "name": "python"
    }
  },
  "cells": [
    {
      "cell_type": "markdown",
      "metadata": {
        "id": "view-in-github",
        "colab_type": "text"
      },
      "source": [
        "<a href=\"https://colab.research.google.com/github/leaoskr/AIexperimentLand/blob/main/ImageToStory.ipynb\" target=\"_parent\"><img src=\"https://colab.research.google.com/assets/colab-badge.svg\" alt=\"Open In Colab\"/></a>"
      ]
    },
    {
      "cell_type": "code",
      "source": [
        "# @title Installation\n",
        "!pip install transformers\n",
        "!pip install openai langchain\n",
        "\n",
        "#audio\n",
        "!pip install fairseq\n",
        "!pip install g2p_en"
      ],
      "metadata": {
        "cellView": "form",
        "id": "5BvfX8oYHsTb"
      },
      "execution_count": null,
      "outputs": []
    },
    {
      "cell_type": "code",
      "source": [
        "# @title Generate Application Python File\n",
        "%%writefile imageToStory.py\n",
        "import streamlit as st\n",
        "import urllib.request\n",
        "from PIL import Image\n",
        "from transformers import pipeline\n",
        "\n",
        "from fairseq.checkpoint_utils import load_model_ensemble_and_task_from_hf_hub\n",
        "from fairseq.models.text_to_speech.hub_interface import TTSHubInterface\n",
        "import soundfile as sf\n",
        "\n",
        "#Method\n",
        "def imageTotext(url):\n",
        "  captioner = pipeline(\"image-to-text\",model=\"Salesforce/blip-image-captioning-base\")\n",
        "  text = captioner(url)[0]['generated_text']\n",
        "  return text\n",
        "\n",
        "def textTostory(short_text):\n",
        "  generator = pipeline('text-generation', model = 'gpt2')\n",
        "  story = generator(short_text, max_length = 100, num_return_sequences=3)[0]['generated_text']\n",
        "  return story\n",
        "\n",
        "def storyToaudio(story):\n",
        "  models, cfg, task = load_model_ensemble_and_task_from_hf_hub(\n",
        "      \"facebook/fastspeech2-en-ljspeech\",\n",
        "      arg_overrides={\"vocoder\": \"hifigan\", \"fp16\": False}\n",
        "  )\n",
        "  model = models[0]\n",
        "  TTSHubInterface.update_cfg_with_data_cfg(cfg, task.data_cfg)\n",
        "  generator = task.build_generator([model], cfg)\n",
        "\n",
        "  sample = TTSHubInterface.get_model_input(task, story)\n",
        "  wav, rate = TTSHubInterface.get_prediction(task, model, generator, sample)\n",
        "  return wav, rate\n",
        "\n",
        "#Title\n",
        "st.title('AI: Turn Image into Audio Story')\n",
        "\n",
        "#Display Image\n",
        "st.header('Input Image')\n",
        "st.text_input(\"Image URL\", key=\"image\")\n",
        "\n",
        "try:\n",
        "  if st.session_state.image is \"\":\n",
        "    st.write(\"Enter a valid image URL\")\n",
        "  else:\n",
        "    urllib.request.urlretrieve(st.session_state.image, \"test.jpg\")\n",
        "    Image.open(\"test.jpg\")\n",
        "    st.image(st.session_state.image)\n",
        "except:\n",
        "  st.error('The URL is not valid', icon=\"🚨\")\n",
        "\n",
        "#Generate\n",
        "if 'clicked' not in st.session_state:\n",
        "    st.session_state.clicked = False\n",
        "\n",
        "def click_button():\n",
        "    st.session_state.clicked = True\n",
        "\n",
        "st.button('Generate', on_click=click_button)\n",
        "\n",
        "if st.session_state.clicked:\n",
        "  with st.spinner('Wait for it...'):\n",
        "    ##1.Image to text\n",
        "    text = imageTotext(st.session_state.image)\n",
        "    st.toast('Image to Text: successful', icon='🎉')\n",
        "    ##2.text to story\n",
        "    story = textTostory(text)\n",
        "    st.toast('Text to Story: successful', icon='🎉')\n",
        "    ##3.story to audio\n",
        "    wav, rate = storyToaudio(story)\n",
        "    sf.write('audio.flac', wav, rate)\n",
        "    st.toast('Story to Audio: successful', icon='🎉')\n",
        "\n",
        "    #Display Audio\n",
        "    st.header('Output Audio Story')\n",
        "    st.audio('audio.flac')\n",
        "\n",
        "    #Display Text\n",
        "    st.write(story)"
      ],
      "metadata": {
        "colab": {
          "base_uri": "https://localhost:8080/"
        },
        "cellView": "form",
        "id": "p42YQ9xzd-ZZ",
        "outputId": "6b50bd83-827e-4406-d7cc-917f2fc3fe8a"
      },
      "execution_count": 18,
      "outputs": [
        {
          "output_type": "stream",
          "name": "stdout",
          "text": [
            "Overwriting imageToStory.py\n"
          ]
        }
      ]
    },
    {
      "cell_type": "code",
      "execution_count": 19,
      "metadata": {
        "colab": {
          "base_uri": "https://localhost:8080/"
        },
        "id": "llWr-sUeL8DH",
        "outputId": "37c0f1eb-a479-4349-fe3d-ccbac6536853"
      },
      "outputs": [
        {
          "output_type": "stream",
          "name": "stdout",
          "text": [
            "\u001b[K\u001b[?25h\u001b[37;40mnpm\u001b[0m \u001b[0m\u001b[30;43mWARN\u001b[0m \u001b[0m\u001b[35msaveError\u001b[0m ENOENT: no such file or directory, open '/content/package.json'\n",
            "\u001b[K\u001b[?25h\u001b[37;40mnpm\u001b[0m \u001b[0m\u001b[30;43mWARN\u001b[0m \u001b[0m\u001b[35menoent\u001b[0m ENOENT: no such file or directory, open '/content/package.json'\n",
            "\u001b[0m\u001b[37;40mnpm\u001b[0m \u001b[0m\u001b[30;43mWARN\u001b[0m\u001b[35m\u001b[0m content No description\n",
            "\u001b[0m\u001b[37;40mnpm\u001b[0m \u001b[0m\u001b[30;43mWARN\u001b[0m\u001b[35m\u001b[0m content No repository field.\n",
            "\u001b[0m\u001b[37;40mnpm\u001b[0m \u001b[0m\u001b[30;43mWARN\u001b[0m\u001b[35m\u001b[0m content No README data\n",
            "\u001b[0m\u001b[37;40mnpm\u001b[0m \u001b[0m\u001b[30;43mWARN\u001b[0m\u001b[35m\u001b[0m content No license field.\n",
            "\u001b[0m\n",
            "+ localtunnel@2.0.2\n",
            "updated 1 package and audited 36 packages in 0.524s\n",
            "\n",
            "3 packages are looking for funding\n",
            "  run `npm fund` for details\n",
            "\n",
            "found \u001b[92m0\u001b[0m vulnerabilities\n",
            "\n",
            "\u001b[K\u001b[?25hnpx: installed 22 in 3.138s\n",
            "your url is: https://cuddly-donuts-wink.loca.lt\n",
            "^C\n"
          ]
        }
      ],
      "source": [
        "# @title Run Streamlit\n",
        "!pip install -q streamlit\n",
        "!npm install localtunnel\n",
        "!streamlit run imageToStory.py &>log.txt &\n",
        "!npx localtunnel --port 8501"
      ]
    }
  ]
}