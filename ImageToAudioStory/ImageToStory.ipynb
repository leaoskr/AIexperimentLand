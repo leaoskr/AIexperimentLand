{
  "nbformat": 4,
  "nbformat_minor": 0,
  "metadata": {
    "colab": {
      "provenance": [],
      "authorship_tag": "ABX9TyM0Xeq+3lBnP5GHe8KMXs7a",
      "include_colab_link": true
    },
    "kernelspec": {
      "name": "python3",
      "display_name": "Python 3"
    },
    "language_info": {
      "name": "python"
    }
  },
  "cells": [
    {
      "cell_type": "markdown",
      "metadata": {
        "id": "view-in-github",
        "colab_type": "text"
      },
      "source": [
        "<a href=\"https://colab.research.google.com/github/leaoskr/AIexperimentLand/blob/main/ImageToStory.ipynb\" target=\"_parent\"><img src=\"https://colab.research.google.com/assets/colab-badge.svg\" alt=\"Open In Colab\"/></a>"
      ]
    },
    {
      "cell_type": "code",
      "execution_count": null,
      "metadata": {
        "id": "bVK3YEWxsmin"
      },
      "outputs": [],
      "source": [
        "# @title Installation\n",
        "!pip install transformers\n",
        "!pip install openai langchain\n",
        "\n",
        "#audio\n",
        "!pip install fairseq\n",
        "!pip install g2p_en"
      ]
    },
    {
      "cell_type": "code",
      "source": [
        "# @title Generate Application Python File\n",
        "%%writefile imageToStory.py\n",
        "import streamlit as st\n",
        "import urllib.request\n",
        "from PIL import Image\n",
        "from transformers import pipeline\n",
        "\n",
        "from fairseq.checkpoint_utils import load_model_ensemble_and_task_from_hf_hub\n",
        "from fairseq.models.text_to_speech.hub_interface import TTSHubInterface\n",
        "import soundfile as sf\n",
        "\n",
        "#Method\n",
        "def imageTotext(url):\n",
        "  captioner = pipeline(\"image-to-text\",model=\"Salesforce/blip-image-captioning-base\")\n",
        "  text = captioner(url)[0]['generated_text']\n",
        "  return text\n",
        "\n",
        "def textTostory(short_text):\n",
        "  generator = pipeline('text-generation', model = 'gpt2')\n",
        "  story = generator(short_text, max_length = 100, num_return_sequences=3)[0]['generated_text']\n",
        "  return story\n",
        "\n",
        "def storyToaudio(story):\n",
        "  models, cfg, task = load_model_ensemble_and_task_from_hf_hub(\n",
        "      \"facebook/fastspeech2-en-ljspeech\",\n",
        "      arg_overrides={\"vocoder\": \"hifigan\", \"fp16\": False}\n",
        "  )\n",
        "  model = models[0]\n",
        "  TTSHubInterface.update_cfg_with_data_cfg(cfg, task.data_cfg)\n",
        "  generator = task.build_generator([model], cfg)\n",
        "\n",
        "  sample = TTSHubInterface.get_model_input(task, story)\n",
        "  wav, rate = TTSHubInterface.get_prediction(task, model, generator, sample)\n",
        "  return wav, rate\n",
        "\n",
        "#Title\n",
        "st.title('AI: Turn Image into Audio Story')\n",
        "\n",
        "#Display Image\n",
        "st.header('Input Image')\n",
        "st.text_input(\"Image URL\", key=\"image\")\n",
        "\n",
        "try:\n",
        "  if st.session_state.image is \"\":\n",
        "    st.write(\"Enter a valid image URL\")\n",
        "  else:\n",
        "    urllib.request.urlretrieve(st.session_state.image, \"test.jpg\")\n",
        "    Image.open(\"test.jpg\")\n",
        "    st.image(st.session_state.image)\n",
        "except:\n",
        "  st.error('The URL is not valid', icon=\"🚨\")\n",
        "\n",
        "#Generate\n",
        "if 'clicked' not in st.session_state:\n",
        "    st.session_state.clicked = False\n",
        "\n",
        "def click_button():\n",
        "    st.session_state.clicked = True\n",
        "\n",
        "st.button('Generate', on_click=click_button)\n",
        "\n",
        "if st.session_state.clicked:\n",
        "  with st.spinner('Wait for it...'):\n",
        "    ##1.Image to text\n",
        "    text = imageTotext(st.session_state.image)\n",
        "    st.toast('Image to Text: successful', icon='🎉')\n",
        "    ##2.text to story\n",
        "    story = textTostory(text)\n",
        "    st.toast('Text to Story: successful', icon='🎉')\n",
        "    ##3.story to audio\n",
        "    wav, rate = storyToaudio(story)\n",
        "    sf.write('audio.flac', wav, rate)\n",
        "    st.toast('Story to Audio: successful', icon='🎉')\n",
        "\n",
        "    #Display Audio\n",
        "    st.header('Output Audio Story')\n",
        "    st.audio('audio.flac')\n",
        "\n",
        "    #Display Text\n",
        "    st.write(story)"
      ],
      "metadata": {
        "id": "MCIpuCM-so3V"
      },
      "execution_count": null,
      "outputs": []
    },
    {
      "cell_type": "code",
      "source": [
        "# @title Run Streamlit\n",
        "!pip install -q streamlit\n",
        "!npm install localtunnel\n",
        "!streamlit run imageToStory.py &>log.txt &\n",
        "!npx localtunnel --port 8501"
      ],
      "metadata": {
        "id": "q44KBUZ_srOx"
      },
      "execution_count": null,
      "outputs": []
    }
  ]
}
